{
 "cells": [
  {
   "cell_type": "code",
   "execution_count": 3,
   "metadata": {},
   "outputs": [],
   "source": [
    "import requests\n",
    "import urllib.request\n",
    "import time\n",
    "from bs4 import BeautifulSoup"
   ]
  },
  {
   "cell_type": "code",
   "execution_count": 4,
   "metadata": {},
   "outputs": [],
   "source": [
    "url = 'https://finviz.com/screener.ashx?v=111&f=fa_pe_high,sh_curvol_o1000,sh_price_u10,ta_change_u&ft=4'\n",
    "response = requests.get(url)"
   ]
  },
  {
   "cell_type": "code",
   "execution_count": 5,
   "metadata": {},
   "outputs": [
    {
     "data": {
      "text/plain": [
       "<Response [200]>"
      ]
     },
     "execution_count": 5,
     "metadata": {},
     "output_type": "execute_result"
    }
   ],
   "source": [
    "response"
   ]
  },
  {
   "cell_type": "code",
   "execution_count": 6,
   "metadata": {},
   "outputs": [],
   "source": [
    "soup = BeautifulSoup(response.text, 'html.parser')"
   ]
  },
  {
   "cell_type": "code",
   "execution_count": 7,
   "metadata": {},
   "outputs": [],
   "source": [
    "a_tag_list = soup.find_all('a')"
   ]
  },
  {
   "cell_type": "code",
   "execution_count": 8,
   "metadata": {},
   "outputs": [],
   "source": [
    "tickers = [x.contents[0] for x in a_tag_list if 'class=\"screener-link-primary\"' in str(x)]"
   ]
  },
  {
   "cell_type": "code",
   "execution_count": 9,
   "metadata": {},
   "outputs": [],
   "source": [
    "table = [\n",
    "    x.contents[0] \n",
    "    for x in a_tag_list \n",
    "    if 'class=\"screener-link\"' in str(x) or 'class=\"screener-link-primary\"' in str(x)\n",
    "]"
   ]
  },
  {
   "cell_type": "code",
   "execution_count": 10,
   "metadata": {},
   "outputs": [
    {
     "data": {
      "text/plain": [
       "['1',\n",
       " 'ANGI',\n",
       " 'ANGI Homeservices Inc.',\n",
       " 'Technology',\n",
       " 'Internet Software & Services',\n",
       " 'USA',\n",
       " '2.77B',\n",
       " <span style=\"color:#aa0000;\">87.69</span>,\n",
       " <span style=\"color:#008800;\">5.88</span>,\n",
       " <span style=\"color:#008800;\">6.62%</span>,\n",
       " '1,715,773',\n",
       " '2',\n",
       " 'GLUU',\n",
       " 'Glu Mobile Inc.',\n",
       " 'Technology',\n",
       " 'Multimedia & Graphics Software',\n",
       " 'USA',\n",
       " '941.18M',\n",
       " <span style=\"color:#aa0000;\">152.20</span>,\n",
       " <span style=\"color:#008800;\">6.24</span>,\n",
       " <span style=\"color:#008800;\">10.64%</span>,\n",
       " '3,233,421',\n",
       " '3',\n",
       " 'SAND',\n",
       " 'Sandstorm Gold Ltd.',\n",
       " 'Basic Materials',\n",
       " 'Gold',\n",
       " 'Canada',\n",
       " '1.14B',\n",
       " <span style=\"color:#aa0000;\">72.67</span>,\n",
       " <span style=\"color:#008800;\">6.54</span>,\n",
       " <span style=\"color:#008800;\">12.95%</span>,\n",
       " '4,236,265',\n",
       " '4',\n",
       " 'SBSW',\n",
       " 'Sibanye Stillwater Limited',\n",
       " 'Basic Materials',\n",
       " 'Gold',\n",
       " 'South Africa',\n",
       " '4.78B',\n",
       " <span style=\"color:#aa0000;\">1812.50</span>,\n",
       " <span style=\"color:#008800;\">7.25</span>,\n",
       " <span style=\"color:#008800;\">11.88%</span>,\n",
       " '2,484,031',\n",
       " '5',\n",
       " 'SPWR',\n",
       " 'SunPower Corporation',\n",
       " 'Technology',\n",
       " 'Semiconductor - Specialized',\n",
       " 'USA',\n",
       " '1.02B',\n",
       " <span style=\"color:#aa0000;\">267.08</span>,\n",
       " <span style=\"color:#008800;\">6.41</span>,\n",
       " <span style=\"color:#008800;\">1.91%</span>,\n",
       " '2,601,640',\n",
       " '6',\n",
       " 'VRT',\n",
       " 'Vertiv Holdings Co.',\n",
       " 'Technology',\n",
       " 'Diversified Electronics',\n",
       " 'USA',\n",
       " '3.09B',\n",
       " <span style=\"color:#aa0000;\">189.22</span>,\n",
       " <span style=\"color:#008800;\">9.65</span>,\n",
       " <span style=\"color:#008800;\">5.01%</span>,\n",
       " '2,202,395',\n",
       " '7',\n",
       " 'ZNGA',\n",
       " 'Zynga Inc.',\n",
       " 'Technology',\n",
       " 'Multimedia & Graphics Software',\n",
       " 'USA',\n",
       " '6.61B',\n",
       " <span style=\"color:#aa0000;\">207.35</span>,\n",
       " <span style=\"color:#008800;\">7.05</span>,\n",
       " <span style=\"color:#008800;\">2.03%</span>,\n",
       " '13,753,905']"
      ]
     },
     "execution_count": 10,
     "metadata": {},
     "output_type": "execute_result"
    }
   ],
   "source": [
    "table"
   ]
  },
  {
   "cell_type": "code",
   "execution_count": 11,
   "metadata": {},
   "outputs": [
    {
     "ename": "NameError",
     "evalue": "name 'index' is not defined",
     "output_type": "error",
     "traceback": [
      "\u001b[0;31m---------------------------------------------------------------------------\u001b[0m",
      "\u001b[0;31mNameError\u001b[0m                                 Traceback (most recent call last)",
      "\u001b[0;32m<ipython-input-11-30c0d57b69dd>\u001b[0m in \u001b[0;36m<module>\u001b[0;34m\u001b[0m\n\u001b[1;32m      2\u001b[0m \u001b[0;32mimport\u001b[0m \u001b[0mre\u001b[0m\u001b[0;34m\u001b[0m\u001b[0;34m\u001b[0m\u001b[0m\n\u001b[1;32m      3\u001b[0m \u001b[0;34m\u001b[0m\u001b[0m\n\u001b[0;32m----> 4\u001b[0;31m \u001b[0mPE\u001b[0m \u001b[0;34m=\u001b[0m \u001b[0mtable\u001b[0m\u001b[0;34m[\u001b[0m\u001b[0mindex\u001b[0m \u001b[0;34m+\u001b[0m \u001b[0;36m7\u001b[0m\u001b[0;34m]\u001b[0m\u001b[0;34m\u001b[0m\u001b[0;34m\u001b[0m\u001b[0m\n\u001b[0m\u001b[1;32m      5\u001b[0m \u001b[0mPrice\u001b[0m \u001b[0;34m=\u001b[0m \u001b[0mtable\u001b[0m\u001b[0;34m[\u001b[0m\u001b[0mindex\u001b[0m \u001b[0;34m+\u001b[0m \u001b[0;36m8\u001b[0m\u001b[0;34m]\u001b[0m\u001b[0;34m\u001b[0m\u001b[0;34m\u001b[0m\u001b[0m\n\u001b[1;32m      6\u001b[0m \u001b[0mDayChange\u001b[0m \u001b[0;34m=\u001b[0m \u001b[0mtable\u001b[0m\u001b[0;34m[\u001b[0m\u001b[0mindex\u001b[0m \u001b[0;34m+\u001b[0m \u001b[0;36m9\u001b[0m\u001b[0;34m]\u001b[0m\u001b[0;34m\u001b[0m\u001b[0;34m\u001b[0m\u001b[0m\n",
      "\u001b[0;31mNameError\u001b[0m: name 'index' is not defined"
     ]
    }
   ],
   "source": [
    "table[:10]\n",
    "import re\n",
    " \n",
    "PE = table[index + 7]\n",
    "Price = table[index + 8]\n",
    "DayChange = table[index + 9]"
   ]
  },
  {
   "cell_type": "code",
   "execution_count": 12,
   "metadata": {},
   "outputs": [],
   "source": [
    "import pandas as pd"
   ]
  },
  {
   "cell_type": "code",
   "execution_count": 13,
   "metadata": {},
   "outputs": [
    {
     "data": {
      "text/plain": [
       "['1',\n",
       " 'ANGI',\n",
       " 'ANGI Homeservices Inc.',\n",
       " 'Technology',\n",
       " 'Internet Software & Services',\n",
       " 'USA',\n",
       " '2.77B',\n",
       " <span style=\"color:#aa0000;\">87.69</span>,\n",
       " <span style=\"color:#008800;\">5.88</span>,\n",
       " <span style=\"color:#008800;\">6.62%</span>]"
      ]
     },
     "execution_count": 13,
     "metadata": {},
     "output_type": "execute_result"
    }
   ],
   "source": [
    "table[:10]"
   ]
  },
  {
   "cell_type": "code",
   "execution_count": 14,
   "metadata": {},
   "outputs": [
    {
     "ename": "NameError",
     "evalue": "name 'PE' is not defined",
     "output_type": "error",
     "traceback": [
      "\u001b[0;31m---------------------------------------------------------------------------\u001b[0m",
      "\u001b[0;31mNameError\u001b[0m                                 Traceback (most recent call last)",
      "\u001b[0;32m<ipython-input-14-0e9373e48918>\u001b[0m in \u001b[0;36m<module>\u001b[0;34m\u001b[0m\n\u001b[0;32m----> 1\u001b[0;31m \u001b[0mstr\u001b[0m\u001b[0;34m(\u001b[0m\u001b[0mPE\u001b[0m\u001b[0;34m)\u001b[0m\u001b[0;34m\u001b[0m\u001b[0;34m\u001b[0m\u001b[0m\n\u001b[0m\u001b[1;32m      2\u001b[0m \u001b[0mstr\u001b[0m\u001b[0;34m(\u001b[0m\u001b[0mPrice\u001b[0m\u001b[0;34m)\u001b[0m\u001b[0;34m\u001b[0m\u001b[0;34m\u001b[0m\u001b[0m\n\u001b[1;32m      3\u001b[0m \u001b[0mstr\u001b[0m\u001b[0;34m(\u001b[0m\u001b[0mDayChange\u001b[0m\u001b[0;34m)\u001b[0m\u001b[0;34m\u001b[0m\u001b[0;34m\u001b[0m\u001b[0m\n",
      "\u001b[0;31mNameError\u001b[0m: name 'PE' is not defined"
     ]
    }
   ],
   "source": [
    "str(PE)\n",
    "str(Price)\n",
    "str(DayChange)"
   ]
  },
  {
   "cell_type": "code",
   "execution_count": null,
   "metadata": {},
   "outputs": [],
   "source": [
    "NUM_COLS = 11\n",
    "\n",
    "index = 0\n",
    "\n",
    "data = list()\n",
    "\n",
    "while index < 200:\n",
    "    data_dict = {\n",
    "        'Ticker': table[index + 1],\n",
    "        'Volume': table[index + 10],\n",
    "        'Company Name': table[index + 2],\n",
    "        'Sector': table[index + 3],\n",
    "        'Country': table[index + 5],\n",
    "        'Market Cap': table[index + 6],\n",
    "        'P/E Ratio': float(re.findall(r'<.*>(.*)<\\/span>', str(PE))[0],\n",
    "                           }\n",
    "                        \n",
    "    \n",
    "    data.append(data_dict)\n",
    "    \n",
    "    index += NUM_COLS"
   ]
  },
  {
   "cell_type": "code",
   "execution_count": 3,
   "metadata": {},
   "outputs": [
    {
     "ename": "NameError",
     "evalue": "name 'data' is not defined",
     "output_type": "error",
     "traceback": [
      "\u001b[0;31m---------------------------------------------------------------------------\u001b[0m",
      "\u001b[0;31mNameError\u001b[0m                                 Traceback (most recent call last)",
      "\u001b[0;32m<ipython-input-3-71bd52629753>\u001b[0m in \u001b[0;36m<module>\u001b[0;34m\u001b[0m\n\u001b[0;32m----> 1\u001b[0;31m \u001b[0mint\u001b[0m\u001b[0;34m(\u001b[0m\u001b[0mdata\u001b[0m\u001b[0;34m)\u001b[0m\u001b[0;34m\u001b[0m\u001b[0;34m\u001b[0m\u001b[0m\n\u001b[0m\u001b[1;32m      2\u001b[0m \u001b[0mdf\u001b[0m \u001b[0;34m=\u001b[0m \u001b[0mpd\u001b[0m\u001b[0;34m.\u001b[0m\u001b[0mDataFrame\u001b[0m\u001b[0;34m(\u001b[0m\u001b[0mdata\u001b[0m\u001b[0;34m)\u001b[0m\u001b[0;34m\u001b[0m\u001b[0;34m\u001b[0m\u001b[0m\n\u001b[1;32m      3\u001b[0m \u001b[0mdf\u001b[0m\u001b[0;34m\u001b[0m\u001b[0;34m\u001b[0m\u001b[0m\n",
      "\u001b[0;31mNameError\u001b[0m: name 'data' is not defined"
     ]
    }
   ],
   "source": [
    "df = pd.DataFrame(data)\n",
    "df"
   ]
  },
  {
   "cell_type": "code",
   "execution_count": null,
   "metadata": {},
   "outputs": [],
   "source": []
  },
  {
   "cell_type": "code",
   "execution_count": null,
   "metadata": {},
   "outputs": [],
   "source": []
  },
  {
   "cell_type": "code",
   "execution_count": null,
   "metadata": {},
   "outputs": [],
   "source": []
  }
 ],
 "metadata": {
  "kernelspec": {
   "display_name": "Python 3",
   "language": "python",
   "name": "python3"
  },
  "language_info": {
   "codemirror_mode": {
    "name": "ipython",
    "version": 3
   },
   "file_extension": ".py",
   "mimetype": "text/x-python",
   "name": "python",
   "nbconvert_exporter": "python",
   "pygments_lexer": "ipython3",
   "version": "3.7.3"
  }
 },
 "nbformat": 4,
 "nbformat_minor": 2
}
